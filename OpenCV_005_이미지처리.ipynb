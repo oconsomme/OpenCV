{
 "cells": [
  {
   "cell_type": "code",
   "execution_count": null,
   "id": "92e16a89-1c52-4732-bd91-8e506cc6e475",
   "metadata": {},
   "outputs": [],
   "source": [
    "# 1. 카메라 연동해서 띄우기\n",
    "# 2-1. 버튼(1) 누르면 흑백화면으로 바꾸기\n",
    "# 2-2. 버튼(2) 누르면 이진화 이미지 만들기\n",
    "# 2-3. 버튼(3) 누르면 좌우 반전시키기\n",
    "# 2-4. 버튼(4) 누르면 상하 반전시키기\n",
    "# 2-5. 버튼(5) 누르면 종료하기"
   ]
  },
  {
   "cell_type": "code",
   "execution_count": 15,
   "id": "693b73fe-8601-41ae-9794-dc41ab15509b",
   "metadata": {},
   "outputs": [
    {
     "name": "stdout",
     "output_type": "stream",
     "text": [
      "종료\n"
     ]
    }
   ],
   "source": [
    "import cv2\n",
    "\n",
    "# 카메라 연동\n",
    "cap = cv2.VideoCapture(0)\n",
    "\n",
    "# 1번 버튼을 눌렀음을 감지하기 위한 변수\n",
    "gray = False\n",
    "thres = False\n",
    "flip_rl = False\n",
    "flip_ud = False\n",
    "\n",
    "while True:\n",
    "    ret, frame = cap.read() \n",
    "\n",
    "    if not ret:\n",
    "        print('종료')\n",
    "        break\n",
    "\n",
    "    key = cv2.waitKey(30) # 30ms = 초당 33장의 사진, 코드가 실행되는 시간도 있기 때문에\n",
    "\n",
    "    # 버튼(1) 누르면 흑백화면으로 바꾸기\n",
    "    if key == 49:\n",
    "        # 버튼을 눌렀을때만 흑백으로 바꾸기\n",
    "        # frame = cv2.cvtColor(frame, cv2.COLOR_RGB2GRAY)\n",
    "        # 버튼 누르면 흑백 다시 누르면 흑백 제거\n",
    "        if gray:\n",
    "            gray = False\n",
    "        else :\n",
    "            gray = True\n",
    "\n",
    "    if gray: # 버튼을 한번 눌러서 gray의 값에 True가 대입되면 실행\n",
    "        frame = cv2.cvtColor(frame,cv2.COLOR_RGB2GRAY)\n",
    "\n",
    "    if key == 50:\n",
    "        if thres:\n",
    "            thres = False\n",
    "        else:\n",
    "            thres = True\n",
    "    if thres:\n",
    "        _, frame = cv2.threshold(frame, 128, 255, cv2.THRESH_BINARY)\n",
    "\n",
    "    if key == 51: # 좌우 뒤집기\n",
    "        if flip_rl:\n",
    "            flip_rl = False\n",
    "        else:\n",
    "            flip_rl = True\n",
    "    if flip_rl:\n",
    "        frame = cv2.flip(frame,1)\n",
    "\n",
    "    if key == 52: # 상하 뒤집기\n",
    "        if flip_ud:\n",
    "            flip_ud = False\n",
    "        else:\n",
    "            flip_ud = True\n",
    "    if flip_ud:\n",
    "        frame = cv2.flip(frame,-1)\n",
    "        \n",
    "    cv2.imshow('video', frame)\n",
    "    \n",
    "    # 5번 버튼\n",
    "    if key == 53: # 4($)을 눌렀을때\n",
    "        print('종료')\n",
    "        break\n",
    "\n",
    "cap.release()\n",
    "cv2.destroyAllWindows()"
   ]
  },
  {
   "cell_type": "code",
   "execution_count": null,
   "id": "cfd98030-2897-4bbd-b824-6f7768ebc56c",
   "metadata": {},
   "outputs": [],
   "source": []
  },
  {
   "cell_type": "code",
   "execution_count": null,
   "id": "a5c0bd98-fd85-40d6-8bc6-0fea089733dd",
   "metadata": {},
   "outputs": [],
   "source": []
  },
  {
   "cell_type": "code",
   "execution_count": null,
   "id": "ddc919e7-a863-4f72-861b-3c730936a7bd",
   "metadata": {},
   "outputs": [],
   "source": []
  },
  {
   "cell_type": "code",
   "execution_count": null,
   "id": "8e382e1c-f160-4774-a513-19e2e7377fbb",
   "metadata": {},
   "outputs": [],
   "source": []
  },
  {
   "cell_type": "code",
   "execution_count": null,
   "id": "f280c2c7-d72f-4c5d-9552-918b5f54ce6e",
   "metadata": {},
   "outputs": [],
   "source": []
  },
  {
   "cell_type": "code",
   "execution_count": null,
   "id": "9c34c744-f821-4dce-aaac-2f679ab62e2b",
   "metadata": {},
   "outputs": [],
   "source": []
  },
  {
   "cell_type": "code",
   "execution_count": null,
   "id": "ffcb00e8-73cc-477f-bbb8-661b1dbd26b3",
   "metadata": {},
   "outputs": [],
   "source": []
  },
  {
   "cell_type": "code",
   "execution_count": null,
   "id": "6dcd0c31-fd46-4ded-b6f6-cb442985c30b",
   "metadata": {},
   "outputs": [],
   "source": []
  },
  {
   "cell_type": "code",
   "execution_count": null,
   "id": "6adfabf8-56df-4020-85bb-361cea160801",
   "metadata": {},
   "outputs": [],
   "source": []
  },
  {
   "cell_type": "code",
   "execution_count": null,
   "id": "3c87f7be-634d-478a-879a-64261e8d580c",
   "metadata": {},
   "outputs": [],
   "source": []
  },
  {
   "cell_type": "code",
   "execution_count": null,
   "id": "45ee8803-9740-461a-83b3-fd115228e1d1",
   "metadata": {},
   "outputs": [],
   "source": []
  },
  {
   "cell_type": "code",
   "execution_count": null,
   "id": "1637b181-844b-4a15-91cc-3321db320795",
   "metadata": {},
   "outputs": [],
   "source": []
  },
  {
   "cell_type": "code",
   "execution_count": null,
   "id": "a8792616-7416-4b74-8193-3336e9c5a216",
   "metadata": {},
   "outputs": [],
   "source": []
  },
  {
   "cell_type": "code",
   "execution_count": null,
   "id": "c96cc9d8-4897-4ba8-b04a-3f8b6cf3ee6d",
   "metadata": {},
   "outputs": [],
   "source": []
  },
  {
   "cell_type": "code",
   "execution_count": null,
   "id": "8fca779f-1ec2-4e36-a618-7671341b503f",
   "metadata": {},
   "outputs": [],
   "source": []
  },
  {
   "cell_type": "code",
   "execution_count": null,
   "id": "824d3f4c-3f99-4372-9ebe-458e1446d011",
   "metadata": {},
   "outputs": [],
   "source": []
  },
  {
   "cell_type": "code",
   "execution_count": null,
   "id": "97a892fb-5ed2-493b-b41c-7e14eb53c73e",
   "metadata": {},
   "outputs": [],
   "source": []
  },
  {
   "cell_type": "code",
   "execution_count": null,
   "id": "2817b02c-d44f-4c9d-b941-87af11eee707",
   "metadata": {},
   "outputs": [],
   "source": []
  },
  {
   "cell_type": "code",
   "execution_count": null,
   "id": "5614ba73-7e59-4dec-b575-c4258223c032",
   "metadata": {},
   "outputs": [],
   "source": []
  },
  {
   "cell_type": "code",
   "execution_count": null,
   "id": "d0dac37b-e6c3-4c8d-975b-b34dc175a20f",
   "metadata": {},
   "outputs": [],
   "source": []
  },
  {
   "cell_type": "code",
   "execution_count": null,
   "id": "86037daf-b7a5-4772-a6ad-650b9d044578",
   "metadata": {},
   "outputs": [],
   "source": []
  },
  {
   "cell_type": "code",
   "execution_count": null,
   "id": "30e96ee1-1488-44b7-a0c7-fd91dc06f65a",
   "metadata": {},
   "outputs": [],
   "source": []
  },
  {
   "cell_type": "code",
   "execution_count": null,
   "id": "0df7768f-24a6-4f75-8018-747ede4d02b2",
   "metadata": {},
   "outputs": [],
   "source": []
  },
  {
   "cell_type": "code",
   "execution_count": null,
   "id": "b9b0f738-8f04-49be-b441-96426392dbc4",
   "metadata": {},
   "outputs": [],
   "source": []
  },
  {
   "cell_type": "code",
   "execution_count": null,
   "id": "61c489e9-6f0b-4646-87b9-83f0330fc520",
   "metadata": {},
   "outputs": [],
   "source": []
  },
  {
   "cell_type": "code",
   "execution_count": null,
   "id": "f5ec0199-3af4-41e2-a2bf-9e1c2ddd1733",
   "metadata": {},
   "outputs": [],
   "source": []
  },
  {
   "cell_type": "code",
   "execution_count": null,
   "id": "629e6e31-65b2-4e2b-a90a-f4332e410019",
   "metadata": {},
   "outputs": [],
   "source": []
  },
  {
   "cell_type": "code",
   "execution_count": null,
   "id": "bb3d6a79-f53a-47c6-89ca-0e17109085bf",
   "metadata": {},
   "outputs": [],
   "source": []
  },
  {
   "cell_type": "code",
   "execution_count": null,
   "id": "5217d01d-07a0-4f47-ae5c-e87f944fcc0e",
   "metadata": {},
   "outputs": [],
   "source": []
  },
  {
   "cell_type": "code",
   "execution_count": null,
   "id": "4ecbec03-0b0c-4e54-8d0a-a6d357b3542b",
   "metadata": {},
   "outputs": [],
   "source": []
  },
  {
   "cell_type": "code",
   "execution_count": null,
   "id": "98937885-3ac3-4247-a6c9-f08e34296ab6",
   "metadata": {},
   "outputs": [],
   "source": []
  },
  {
   "cell_type": "code",
   "execution_count": null,
   "id": "62828e3e-6f14-4abe-86ee-6b6eab79a6e2",
   "metadata": {},
   "outputs": [],
   "source": []
  },
  {
   "cell_type": "code",
   "execution_count": null,
   "id": "ffe5febe-927c-4bbf-ba72-371462ef7d53",
   "metadata": {},
   "outputs": [],
   "source": []
  },
  {
   "cell_type": "code",
   "execution_count": null,
   "id": "16ddd5d2-27d2-4295-b91e-a71d9243d68b",
   "metadata": {},
   "outputs": [],
   "source": []
  },
  {
   "cell_type": "code",
   "execution_count": null,
   "id": "773fd8ae-89a4-40f1-81df-a799e11a9664",
   "metadata": {},
   "outputs": [],
   "source": []
  },
  {
   "cell_type": "code",
   "execution_count": null,
   "id": "84d69ab0-7f8e-4777-849d-46ccae6b467e",
   "metadata": {},
   "outputs": [],
   "source": []
  }
 ],
 "metadata": {
  "kernelspec": {
   "display_name": "Python 3 (ipykernel)",
   "language": "python",
   "name": "python3"
  },
  "language_info": {
   "codemirror_mode": {
    "name": "ipython",
    "version": 3
   },
   "file_extension": ".py",
   "mimetype": "text/x-python",
   "name": "python",
   "nbconvert_exporter": "python",
   "pygments_lexer": "ipython3",
   "version": "3.8.18"
  }
 },
 "nbformat": 4,
 "nbformat_minor": 5
}
