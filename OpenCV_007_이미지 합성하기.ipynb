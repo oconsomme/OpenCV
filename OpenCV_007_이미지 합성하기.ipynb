{
 "cells": [
  {
   "cell_type": "code",
   "execution_count": 17,
   "id": "262d368e-5f97-4a2c-b591-b12585f9f268",
   "metadata": {},
   "outputs": [],
   "source": [
    "import cv2\n",
    "\n",
    "psy = cv2.imread('images/psy.png')\n",
    "tiger = cv2.imread('images/tiger.png')\n",
    "\n",
    "# 마스크 이진이미지 만들기 = 쓸 부분과 안 쓸 부분 구분하기\n",
    "# 검은 부분 사용 / 흰 부분 사용 안 함\n",
    "mask2gray = cv2.cvtColor(tiger, cv2.COLOR_BGR2GRAY)\n",
    "_, mask_b = cv2.threshold(mask2gray, 200, 255, cv2.THRESH_BINARY)\n",
    "\n",
    "# 마스크 이미지 반전\n",
    "# 흰 부분 사용 / 검은 부분 사용 안 함(위와 반대)\n",
    "mask_b_inv = cv2.bitwise_not(mask_b)\n",
    "# cv2.imshow('mask_b', mask_b)\n",
    "# cv2.imshow('mask_b_inv', mask_b_inv)\n",
    "\n",
    "# 호랑이 이미지에서 사용할 영역의 값만 추출하기(흰 부분 가져오고 검은 부분 안 가져옴)\n",
    "sub_psy = psy[ 94:217, 239:371 ]\n",
    "img_bg = cv2.bitwise_and(sub_psy, sub_psy, mask = mask_b)\n",
    "\n",
    "img_fg = cv2.bitwise_and(tiger, tiger, mask = mask_b_inv)\n",
    "\n",
    "# cv2.imshow('img_bg', img_bg)\n",
    "# cv2.imshow('img_fg', img_fg)\n",
    "\n",
    "# 두 이미지 합치기\n",
    "bg_fg = cv2.add(img_bg, img_fg)\n",
    "# cv2.imshow('bg_fg', bg_fg)\n",
    "\n",
    "# 원래 이미지에 합성하기\n",
    "psy[94:217, 239:371] = bg_fg\n",
    "cv2.imshow('psy', psy)\n",
    "\n",
    "# ROI = 싸이 얼굴 영역 추출\n",
    "# 추출된 영역에 호랑이 이미지 합성하기\n",
    "# psy[ 94:217, 239:371 ] = tiger\n",
    "\n",
    "# cv2.imshow('psy', psy)\n",
    "#cv2.imshow('tiger', tiger)\n",
    "cv2.waitKey(0)\n",
    "cv2.destroyAllWindows()"
   ]
  },
  {
   "cell_type": "code",
   "execution_count": null,
   "id": "3bd70462-8cdb-4ac8-badc-5a3c9ed351c0",
   "metadata": {},
   "outputs": [],
   "source": [
    "# ROI(Region of Image) : 관심영역 - 싸이 얼굴 영역"
   ]
  },
  {
   "cell_type": "code",
   "execution_count": 4,
   "id": "37d436c0-9d81-47d0-a5eb-8691c3d835c1",
   "metadata": {},
   "outputs": [
    {
     "data": {
      "text/plain": [
       "(838, 630, 3)"
      ]
     },
     "execution_count": 4,
     "metadata": {},
     "output_type": "execute_result"
    }
   ],
   "source": [
    "# 컬러 이미지\n",
    "# 세로, 가로, 색상 채널\n",
    "psy.shape"
   ]
  },
  {
   "cell_type": "code",
   "execution_count": 6,
   "id": "a924671e-830a-4443-8fc0-43879eef6962",
   "metadata": {},
   "outputs": [],
   "source": [
    "# 좌 상단 좌표 : 280, 50\n",
    "# 우 하단 좌표 : 400, 200\n",
    "# 싸이 얼굴 영역 자르기\n",
    "# [열 = y, 행 =]\n",
    "sub_psy = psy[ 94:217, 239:371 ]\n",
    "cv2.imshow('sub', sub_psy)\n",
    "cv2.waitKey(0)\n",
    "cv2.destroyAllWindows()"
   ]
  },
  {
   "cell_type": "code",
   "execution_count": null,
   "id": "f90a3f2e-695f-4f91-839f-5e3f04a22856",
   "metadata": {},
   "outputs": [],
   "source": [
    "# y = 123\n",
    "# x = 132\n",
    "tiger.shape"
   ]
  },
  {
   "cell_type": "code",
   "execution_count": null,
   "id": "585f3bd0-e6fd-4fad-9e61-cbfc3cdd4ddd",
   "metadata": {},
   "outputs": [],
   "source": []
  },
  {
   "cell_type": "code",
   "execution_count": null,
   "id": "571d15d3-fec2-4065-8071-06cded2b2986",
   "metadata": {},
   "outputs": [],
   "source": [
    "# import cv2\n",
    "\n",
    "cap = cv2.VideoCapture(0)\n",
    "\n",
    "# 한 번만 실행해도 됨\n",
    "tiger = cv2.imread('images/tiger.png')\n",
    "mask2gray = cv2.cvtColor(tiger, cv2.COLOR_BGR2GRAY)\n",
    "_, mask_b = cv2.threshold(mask2gray, 200, 255, cv2.THRESH_BINARY)\n",
    "mask_b_inv = cv2.bitwise_not(mask_b)\n",
    "\n",
    "while cap.isOpened() :\n",
    "\n",
    "    ret, frame = cap.read() # 초당 30번은 실행시켜야함\n",
    "    frame = cv2.flip(frame, 1)\n",
    "    \n",
    "    if not ret :\n",
    "        print(\"종료\")\n",
    "        break\n",
    "\n",
    "    sub_frame = frame[ 94:217 , 239:371]\n",
    "    img_bg = cv2.bitwise_and(sub_frame, sub_frame, mask = mask_b)\n",
    "    img_fg = cv2.bitwise_and(tiger,tiger, mask = mask_b_inv)\n",
    "    bg_fg = cv2.add(img_bg,img_fg)\n",
    "    frame[ 94:217 , 239:371] = bg_fg\n",
    "\n",
    "    \n",
    "    cv2.imshow(\"video\", frame)\n",
    "    \n",
    "    key = cv2.waitKey(33) # 1장의 사진을 33ms동안 출력한다. 1초 = 1000ms \n",
    "\n",
    "    if key == 49 :\n",
    "        print(\"종료\")\n",
    "        break\n",
    "        \n",
    "cap.release()\n",
    "cv2.destroyAllWindows()"
   ]
  },
  {
   "cell_type": "code",
   "execution_count": null,
   "id": "c04bf40c-73d3-4fb7-9606-5693737995c7",
   "metadata": {},
   "outputs": [],
   "source": []
  },
  {
   "cell_type": "code",
   "execution_count": null,
   "id": "e9710871-77fa-4934-be2d-a80403635d60",
   "metadata": {},
   "outputs": [],
   "source": []
  }
 ],
 "metadata": {
  "kernelspec": {
   "display_name": "Python 3 (ipykernel)",
   "language": "python",
   "name": "python3"
  },
  "language_info": {
   "codemirror_mode": {
    "name": "ipython",
    "version": 3
   },
   "file_extension": ".py",
   "mimetype": "text/x-python",
   "name": "python",
   "nbconvert_exporter": "python",
   "pygments_lexer": "ipython3",
   "version": "3.8.18"
  }
 },
 "nbformat": 4,
 "nbformat_minor": 5
}
