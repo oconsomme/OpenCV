{
 "cells": [
  {
   "cell_type": "markdown",
   "id": "6d552c62-db82-4dd8-965e-470ab7938cff",
   "metadata": {},
   "source": []
  },
  {
   "cell_type": "code",
   "execution_count": 36,
   "id": "86aad736-6c20-48c1-a302-a22d12d1cf10",
   "metadata": {},
   "outputs": [
    {
     "name": "stdout",
     "output_type": "stream",
     "text": [
      "[]\n"
     ]
    }
   ],
   "source": [
    "# 이미지 띄우기\n",
    "import cv2\n",
    "\n",
    "img = cv2.imread('images/kitten.jpg')\n",
    "\n",
    "cv2.imshow('cat', img)\n",
    "cv2.waitKey(0)\n",
    "cv2.destroyAllWindows()"
   ]
  },
  {
   "cell_type": "code",
   "execution_count": 47,
   "id": "d8daee34-edd0-43b1-9559-b2f1738416a5",
   "metadata": {},
   "outputs": [
    {
     "data": {
      "text/plain": [
       "array([[   0.040001,     0.18257,      0.2975,     0.45898,      0.9087,           0],\n",
       "       [    0.38373,    0.073844,     0.63468,     0.36971,     0.90098,           0],\n",
       "       [    0.66157,     0.12129,     0.94607,     0.39914,     0.86272,           0]], dtype=float32)"
      ]
     },
     "execution_count": 47,
     "metadata": {},
     "output_type": "execute_result"
    }
   ],
   "source": [
    "img = cv2.imread('images/cat9.jpg')\n",
    "result = model(img)\n",
    "detect = result.xyxyn[0].numpy() # 찾은 객체 관련 값\n",
    "detect"
   ]
  },
  {
   "cell_type": "code",
   "execution_count": 4,
   "id": "c790087a-ae57-483b-bd90-88ef02d5afc0",
   "metadata": {},
   "outputs": [
    {
     "name": "stderr",
     "output_type": "stream",
     "text": [
      "Downloading: \"https://github.com/ultralytics/yolov5/zipball/master\" to C:\\Users\\gjaischool1/.cache\\torch\\hub\\master.zip\n",
      "YOLOv5  2023-10-26 Python-3.8.18 torch-2.1.0+cpu CPU\n",
      "\n",
      "Fusing layers... \n",
      "Model summary: 157 layers, 7015519 parameters, 0 gradients, 15.8 GFLOPs\n",
      "Adding AutoShape... \n"
     ]
    }
   ],
   "source": [
    "# 객체 검출해보기\n",
    "import torch\n",
    "model = torch.hub.load('ultralytics/yolov5', 'custom', path = 'best.pt', force_reload = True)"
   ]
  },
  {
   "cell_type": "code",
   "execution_count": 5,
   "id": "88a6ad4f-3e50-487b-87d5-e19f04d61379",
   "metadata": {},
   "outputs": [
    {
     "data": {
      "text/plain": [
       "array([[[ 49,  62, 108],\n",
       "        [ 49,  62, 108],\n",
       "        [ 49,  62, 108],\n",
       "        ...,\n",
       "        [116,  84,  73],\n",
       "        [116,  84,  73],\n",
       "        [116,  84,  73]],\n",
       "\n",
       "       [[ 49,  62, 108],\n",
       "        [ 49,  62, 108],\n",
       "        [ 49,  62, 108],\n",
       "        ...,\n",
       "        [114,  82,  71],\n",
       "        [114,  82,  71],\n",
       "        [114,  82,  71]],\n",
       "\n",
       "       [[ 49,  62, 108],\n",
       "        [ 49,  62, 108],\n",
       "        [ 48,  61, 107],\n",
       "        ...,\n",
       "        [113,  81,  70],\n",
       "        [113,  81,  70],\n",
       "        [113,  81,  70]],\n",
       "\n",
       "       ...,\n",
       "\n",
       "       [[ 48,  34,  36],\n",
       "        [ 48,  34,  36],\n",
       "        [ 48,  34,  36],\n",
       "        ...,\n",
       "        [ 59,  45,  47],\n",
       "        [ 60,  46,  48],\n",
       "        [ 61,  47,  49]],\n",
       "\n",
       "       [[ 48,  34,  36],\n",
       "        [ 48,  34,  36],\n",
       "        [ 48,  34,  36],\n",
       "        ...,\n",
       "        [ 58,  44,  46],\n",
       "        [ 59,  45,  47],\n",
       "        [ 60,  46,  48]],\n",
       "\n",
       "       [[ 48,  34,  36],\n",
       "        [ 48,  34,  36],\n",
       "        [ 48,  34,  36],\n",
       "        ...,\n",
       "        [ 57,  43,  45],\n",
       "        [ 58,  44,  46],\n",
       "        [ 59,  45,  47]]], dtype=uint8)"
      ]
     },
     "execution_count": 5,
     "metadata": {},
     "output_type": "execute_result"
    }
   ],
   "source": [
    "img"
   ]
  },
  {
   "cell_type": "code",
   "execution_count": 50,
   "id": "ce454ee9-af1f-4a68-b2a6-5f21002afcb4",
   "metadata": {},
   "outputs": [],
   "source": [
    "import numpy\n",
    "img = cv2.imread('images/cat9.jpg')\n",
    "result = model(img)\n",
    "detect = result.xyxyn[0].numpy() # 찾은 객체 관련 값\n",
    "# x1, y1, x2, y2, confidence, class\n",
    "\n",
    "# 객체 실제 위치 계산하기\n",
    "y_shape = img.shape[0]\n",
    "x_shape = img.shape[1]\n",
    "\n",
    "for i in range(len(detect)):\n",
    "    x1 = int(detect[i, 0] * x_shape)\n",
    "    y1 = int(detect[i, 1] * y_shape)\n",
    "    x2 = int(detect[i, 2] * x_shape)\n",
    "    y2 = int(detect[i, 3] * y_shape)\n",
    "    \n",
    "    # 객체 위치에 표현하기\n",
    "    # 이미지, 좌상단 좌표, 우하단 좌표, 색상(BGR), 두께 \n",
    "    cv2.rectangle(img, (x1, y1), (x2, y2), (0, 255, 0), 2)\n",
    "\n",
    "cv2.imshow('cat', img)\n",
    "cv2.waitKey(0)\n",
    "cv2.destroyAllWindows()"
   ]
  },
  {
   "cell_type": "code",
   "execution_count": 19,
   "id": "2213204e-fb89-47ff-aea0-2252c708f391",
   "metadata": {},
   "outputs": [
    {
     "data": {
      "text/plain": [
       "array([[   0.077661,    0.027088,     0.88498,     0.81115,     0.60782,           0]], dtype=float32)"
      ]
     },
     "execution_count": 19,
     "metadata": {},
     "output_type": "execute_result"
    }
   ],
   "source": [
    "detect"
   ]
  },
  {
   "cell_type": "code",
   "execution_count": 28,
   "id": "0dde20f7-df8b-42c8-af8c-64d9b19a0b9f",
   "metadata": {},
   "outputs": [],
   "source": [
    "y_shape = img.shape[0]\n",
    "x_shape = img.shape[1]\n",
    "\n",
    "x1 = int(detect[0, 0] * x_shape)\n",
    "y1 = int(detect[0, 1] * y_shape)\n",
    "x2 = int(detect[0, 2] * x_shape)\n",
    "y2 = int(detect[0, 3] * y_shape)"
   ]
  },
  {
   "cell_type": "code",
   "execution_count": 22,
   "id": "7cb0d111-b221-40c5-b33d-f4c190a5ccc4",
   "metadata": {},
   "outputs": [
    {
     "data": {
      "text/plain": [
       "0.8111502"
      ]
     },
     "execution_count": 22,
     "metadata": {},
     "output_type": "execute_result"
    }
   ],
   "source": [
    "y2"
   ]
  },
  {
   "cell_type": "code",
   "execution_count": 29,
   "id": "380c4be9-15c0-49b8-9d87-7e8d70e19a99",
   "metadata": {},
   "outputs": [
    {
     "data": {
      "text/plain": [
       "24"
      ]
     },
     "execution_count": 29,
     "metadata": {},
     "output_type": "execute_result"
    }
   ],
   "source": [
    "x1"
   ]
  },
  {
   "cell_type": "code",
   "execution_count": 24,
   "id": "584efa8c-ac42-4c5e-95c4-f340ef0c84ba",
   "metadata": {},
   "outputs": [],
   "source": [
    "img.shape # y, x값"
   ]
  },
  {
   "cell_type": "code",
   "execution_count": null,
   "id": "92aaeb56-687c-4e7d-81ec-4d6f90b2c545",
   "metadata": {},
   "outputs": [],
   "source": []
  },
  {
   "cell_type": "code",
   "execution_count": 63,
   "id": "0d93f887-c1ec-4a64-9e5a-6eaee4998124",
   "metadata": {},
   "outputs": [
    {
     "name": "stdout",
     "output_type": "stream",
     "text": [
      "종료\n"
     ]
    }
   ],
   "source": [
    "import cv2\n",
    "\n",
    "cap = cv2.VideoCapture(\"images/sesame.mp4\")\n",
    "\n",
    "while cap.isOpened() :\n",
    "\n",
    "    ret, frame = cap.read() # 초당 30번은 실행시켜야함\n",
    "\n",
    "    result = model(frame)\n",
    "    detect = result.xyxyn[0].numpy() # 찾은 객체 관련 값\n",
    "    # x1, y1, x2, y2, confidence, class\n",
    "    \n",
    "    # 객체 실제 위치 계산하기\n",
    "    y_shape = frame.shape[0]\n",
    "    x_shape = frame.shape[1]\n",
    "    \n",
    "    for i in range(len(detect)):\n",
    "        x1 = int(detect[i, 0] * x_shape)\n",
    "        y1 = int(detect[i, 1] * y_shape)\n",
    "        x2 = int(detect[i, 2] * x_shape)\n",
    "        y2 = int(detect[i, 3] * y_shape)\n",
    "    \n",
    "    # 객체 위치에 표현하기\n",
    "    # 이미지, 좌상단 좌표, 우하단 좌표, 색상(BGR), 두께 \n",
    "    cv2.rectangle(frame, (x1, y1), (x2, y2), (0, 255, 0), 2)\n",
    "    \n",
    "    if not ret :\n",
    "        print(\"종료\")\n",
    "        break\n",
    "        \n",
    "    cv2.imshow(\"video\", frame)\n",
    "    \n",
    "    key = cv2.waitKey(1) # 객체 탐지하는데 시간이 걸리기 때문에 여기서 딜레이를 줄 필요는 없음\n",
    "\n",
    "    if key == 49 :\n",
    "        print(\"종료\")\n",
    "        break\n",
    "        \n",
    "cap.release()\n",
    "cv2.destroyAllWindows()"
   ]
  },
  {
   "cell_type": "code",
   "execution_count": null,
   "id": "0fe6bc7c-9368-4a99-9d10-5387ae0a592f",
   "metadata": {},
   "outputs": [],
   "source": []
  },
  {
   "cell_type": "code",
   "execution_count": null,
   "id": "dac1d9a0-ccc0-42cf-9fe3-a3a4a871af76",
   "metadata": {},
   "outputs": [],
   "source": []
  },
  {
   "cell_type": "code",
   "execution_count": null,
   "id": "0cab5dea-71bf-4552-b395-d02f18422efc",
   "metadata": {},
   "outputs": [],
   "source": []
  },
  {
   "cell_type": "code",
   "execution_count": null,
   "id": "308825df-35be-491d-99c8-7105926a8e83",
   "metadata": {},
   "outputs": [],
   "source": []
  },
  {
   "cell_type": "code",
   "execution_count": null,
   "id": "19f8387f-b974-4aa2-ada7-65afbe4f451f",
   "metadata": {},
   "outputs": [],
   "source": []
  },
  {
   "cell_type": "code",
   "execution_count": null,
   "id": "d5cd0987-f2c2-404e-b7c2-e60d6e996a5d",
   "metadata": {},
   "outputs": [],
   "source": []
  },
  {
   "cell_type": "code",
   "execution_count": null,
   "id": "68606b59-ba17-4a28-9bfc-bc239fb11fb2",
   "metadata": {},
   "outputs": [],
   "source": []
  },
  {
   "cell_type": "code",
   "execution_count": null,
   "id": "56144138-67ba-4800-ba6e-ebf5d6782c63",
   "metadata": {},
   "outputs": [],
   "source": []
  }
 ],
 "metadata": {
  "kernelspec": {
   "display_name": "Python 3 (ipykernel)",
   "language": "python",
   "name": "python3"
  },
  "language_info": {
   "codemirror_mode": {
    "name": "ipython",
    "version": 3
   },
   "file_extension": ".py",
   "mimetype": "text/x-python",
   "name": "python",
   "nbconvert_exporter": "python",
   "pygments_lexer": "ipython3",
   "version": "3.8.18"
  }
 },
 "nbformat": 4,
 "nbformat_minor": 5
}
