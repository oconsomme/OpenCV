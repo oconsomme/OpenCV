{
 "cells": [
  {
   "cell_type": "code",
   "execution_count": 13,
   "id": "0f62eb98-39c1-4888-a7ba-9543174dde11",
   "metadata": {},
   "outputs": [],
   "source": [
    "import mediapipe as mp\n",
    "import cv2\n",
    "\n",
    "# 얼굴에서 특징점을 찾을 수 있는 기능 불러오기\n",
    "mp_face_mesh = mp.solutions.face_mesh\n",
    "# 찾은 특징점 표현하기\n",
    "mp_drawing = mp.solutions.drawing_utils\n",
    "# 특징점 그리기 속성\n",
    "drawing_spec = mp_drawing.DrawingSpec(thickness = 1, color = (0,0,255))\n",
    "# 얼굴에서 특징점 찾기 속성\n",
    "face_mesh = mp_face_mesh.FaceMesh(\n",
    "    min_detection_confidence = 0.5, # 얼굴 검출 확률(자체 판단) 50% 이상인 것들만 출력하기\n",
    "    min_tracking_confidence = 0.5 # 특징점 검출 확률(자체 판단) 50% 이상인 것들만 출력하기\n",
    ")\n",
    "\n",
    "# 한 번만 실행하면 되는 코드\n",
    "tiger = cv2.imread('images/tiger.png')\n",
    "tiger = cv2.resize(tiger,(200, 200)) # 123, 132 > 250, 250으로 크기 변경\n",
    "mask2gray = cv2.cvtColor(tiger , cv2.COLOR_BGR2GRAY)\n",
    "_, mask_b = cv2.threshold(mask2gray, 200, 255, cv2.THRESH_BINARY)\n",
    "mask_b_inv = cv2.bitwise_not(mask_b)\n",
    "\n",
    "cap = cv2.VideoCapture(0)\n",
    "\n",
    "while cap.isOpened():\n",
    "    ret, img = cap.read()\n",
    "    if not ret:\n",
    "        break\n",
    "\n",
    "    # 카메라에서 불러온 사진에서 얼굴 특징점 찾기\n",
    "    results = face_mesh.process(img)\n",
    "\n",
    "    # 얼굴의 특징점(478개)을 감지했을때 실행하겠다\n",
    "    if results.multi_face_landmarks is not None:\n",
    "        # print(results.multi_face_landmarks)\n",
    "        # for res in results.multi_face_landmarks:\n",
    "        #     mp_drawing.draw_landmarks(img, res, mp_face_mesh.FACEMESH_TESSELATION)\n",
    "        # 478개 점을 사용하기가 편함\n",
    "        face_landmarks = results.multi_face_landmarks[0]\n",
    "        # 코의 좌표 찾기\n",
    "        x = int(face_landmarks.landmark[4].x * img.shape[1])\n",
    "        y = int(face_landmarks.landmark[4].y * img.shape[0])\n",
    "        # cv2.circle(img, (x, y), 20, (0, 0, 255), cv2.FILLED)\n",
    "\n",
    "        # 이미지를 집어 넣을 중심 좌표(코의 위치) > x, y\n",
    "        # 마스크 이미지의 크기 > 123,132(tiger.shape)\n",
    "        try:\n",
    "            sub_img = img[y-100:y+100, x-100:x+100]\n",
    "            img_bg = cv2.bitwise_and(sub_img, sub_img, mask = mask_b)\n",
    "            img_fg = cv2.bitwise_and(tiger, tiger, mask = mask_b_inv)\n",
    "            bg_fg = cv2.add(img_bg,img_fg)\n",
    "            img[y-100:y+100, x-100:x+100] = bg_fg\n",
    "        except:\n",
    "            pass\n",
    "    cv2.imshow('video', img)\n",
    "    if cv2.waitKey(33) == 49:\n",
    "        break\n",
    "cap.release()\n",
    "cv2.destroyAllWindows()\n"
   ]
  },
  {
   "cell_type": "code",
   "execution_count": null,
   "id": "b889844b-5d59-4a1f-af7c-a0daa820e0e4",
   "metadata": {},
   "outputs": [],
   "source": []
  },
  {
   "cell_type": "code",
   "execution_count": null,
   "id": "bdcc23ad-6fd6-4a42-943a-dab21bb1842f",
   "metadata": {},
   "outputs": [],
   "source": [
    "## 007 ##\n",
    "import cv2\n",
    "\n",
    "psy = cv2.imread('images/psy.png')\n",
    "\n",
    "# tiger = cv2.imread('images/tiger.png')\n",
    "# mask2gray = cv2.cvtColor(tiger , cv2.COLOR_BGR2GRAY)\n",
    "# _, mask_b = cv2.threshold(mask2gray, 200, 255, cv2.THRESH_BINARY)\n",
    "# mask_b_inv = cv2.bitwise_not(mask_b)\n",
    "\n",
    "sub_psy = psy[ 94:217 , 239:371]\n",
    "img_bg = cv2.bitwise_and(sub_psy, sub_psy, mask = mask_b)\n",
    "img_fg = cv2.bitwise_and(tiger,tiger, mask = mask_b_inv)\n",
    "bg_fg = cv2.add(img_bg,img_fg)\n",
    "psy[ 94:217 , 239:371] = bg_fg\n",
    "\n",
    "cv2.imshow('psy',psy)\n",
    "cv2.waitKey(0)\n",
    "cv2.destroyAllWindows()"
   ]
  },
  {
   "cell_type": "code",
   "execution_count": null,
   "id": "1fc36216-7bd3-4b5a-b149-1ffd11c39612",
   "metadata": {},
   "outputs": [],
   "source": []
  },
  {
   "cell_type": "code",
   "execution_count": null,
   "id": "d425fd3a-4d0b-4099-a8c9-69bcdbd8979b",
   "metadata": {},
   "outputs": [],
   "source": []
  },
  {
   "cell_type": "code",
   "execution_count": null,
   "id": "3a3c5dc7-b19f-40e0-8651-a59e76bb7053",
   "metadata": {},
   "outputs": [],
   "source": []
  },
  {
   "cell_type": "code",
   "execution_count": null,
   "id": "c084be82-ea1b-412b-8fdc-247ce37e9e74",
   "metadata": {},
   "outputs": [],
   "source": []
  },
  {
   "cell_type": "code",
   "execution_count": null,
   "id": "652091b2-c216-4f7a-86df-99521376f4d2",
   "metadata": {},
   "outputs": [],
   "source": []
  }
 ],
 "metadata": {
  "kernelspec": {
   "display_name": "Python 3 (ipykernel)",
   "language": "python",
   "name": "python3"
  },
  "language_info": {
   "codemirror_mode": {
    "name": "ipython",
    "version": 3
   },
   "file_extension": ".py",
   "mimetype": "text/x-python",
   "name": "python",
   "nbconvert_exporter": "python",
   "pygments_lexer": "ipython3",
   "version": "3.8.18"
  }
 },
 "nbformat": 4,
 "nbformat_minor": 5
}
